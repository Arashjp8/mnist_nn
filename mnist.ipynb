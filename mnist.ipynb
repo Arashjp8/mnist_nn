{
 "cells": [
  {
   "cell_type": "code",
   "execution_count": 13,
   "metadata": {},
   "outputs": [],
   "source": [
    "import numpy as np\n",
    "import pandas as pd\n",
    "from matplotlib import pyplot as plt\n",
    "from data import get_mnist\n"
   ]
  },
  {
   "cell_type": "markdown",
   "metadata": {},
   "source": [
    "w = weights, b = bias, i = input, h = hidden, o = output, l = label\n",
    "e.g. w_i_h = weights from input layer to hidden layer"
   ]
  },
  {
   "cell_type": "code",
   "execution_count": 14,
   "metadata": {},
   "outputs": [
    {
     "name": "stdout",
     "output_type": "stream",
     "text": [
      "[[0. 0. 0. ... 0. 0. 0.]\n",
      " [0. 0. 0. ... 0. 0. 0.]\n",
      " [0. 0. 0. ... 0. 0. 0.]\n",
      " ...\n",
      " [0. 0. 0. ... 0. 0. 0.]\n",
      " [0. 0. 0. ... 0. 0. 0.]\n",
      " [0. 0. 0. ... 0. 0. 0.]]\n"
     ]
    }
   ],
   "source": [
    "images, labels = get_mnist()\n",
    "\n",
    "w_i_h = np.random.uniform(-0.5, 0.5, (20, 784))\n",
    "w_h_o = np.random.uniform(-0.5, 0.5, (10, 20))\n",
    "b_i_h = np.zeros((20, 1))\n",
    "b_h_o = np.zeros((10, 1))\n",
    "\n",
    "learn_rate = 0.01\n",
    "nr_correct = 0\n",
    "epochs = 3\n",
    "# how often we go through each image\n",
    "epochs = 3\n",
    "for epoch in range(epochs):\n",
    "    # going through each image, label pair\n",
    "    for img, l in zip(images, labels):\n",
    "        # changes the shape of the img from a vector with size 784 to a matrix (784 * 1)\n",
    "        img.shape += (1,)\n",
    "        # changes the label from a vector with size 10 to a matrix (10 * 1)\n",
    "        l.shape += (1,)\n",
    "        \n",
    "        # forward propagation input -> hidden and activation function (normalizing)  \n",
    "        h_pre = (w_i_h @ img) + b_i_h\n",
    "        h = 1 / (1 + np.exp(-h_pre))\n",
    "        # forward propagation hidden -> output and activation function (normalizing)\n",
    "        o_pre = (w_h_o @ h) + b_h_o\n",
    "        o = 1 / (1 + np.exp(-o_pre))\n",
    "\n",
    "        # cost (error) calculation\n",
    "        error = 1 / len(o) * np.sum((o - l) ** 2, axis=0)\n",
    "        # how many it got correct?\n",
    "        nr_correct += np.sum(np.argmax(o, axis=0) == np.argmax(l, axis=0))\n"
   ]
  }
 ],
 "metadata": {
  "kernelspec": {
   "display_name": "Python 3",
   "language": "python",
   "name": "python3"
  },
  "language_info": {
   "codemirror_mode": {
    "name": "ipython",
    "version": 3
   },
   "file_extension": ".py",
   "mimetype": "text/x-python",
   "name": "python",
   "nbconvert_exporter": "python",
   "pygments_lexer": "ipython3",
   "version": "3.12.4"
  },
  "orig_nbformat": 4
 },
 "nbformat": 4,
 "nbformat_minor": 2
}
